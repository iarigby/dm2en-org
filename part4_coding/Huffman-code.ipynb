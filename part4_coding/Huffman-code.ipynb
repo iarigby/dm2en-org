{
 "cells": [
  {
   "cell_type": "code",
   "execution_count": 8,
   "metadata": {},
   "outputs": [],
   "source": [
    "\n",
    "def huffman(pairs,r):\n",
    "    import operator\n",
    "    print( pairs )\n",
    "    pairs = sorted(pairs, key = operator.itemgetter(0), reverse = True)\n",
    "    n = len(pairs)\n",
    "    t = ((n-2) % (r-1)) + 2\n",
    "    while len(pairs) != 1:\n",
    "        tmplist = list(map( operator.itemgetter(1), pairs[n-t:]))\n",
    "        tmpsum = sum(map( operator.itemgetter(0), pairs[n-t:]))\n",
    "        del pairs[n-t:]\n",
    "        pairs.append((tmpsum,tmplist))\n",
    "        pairs = sorted (pairs, key = operator.itemgetter(0), reverse = True)\n",
    "        n,t = len(pairs),r\n",
    "        print( pairs )\n"
   ]
  },
  {
   "cell_type": "code",
   "execution_count": 9,
   "metadata": {},
   "outputs": [
    {
     "data": {
      "text/plain": [
       "[(0.17, 'a'),\n",
       " (0.02, 'b'),\n",
       " (0.13, 'c'),\n",
       " (0.02, 'd'),\n",
       " (0.01, 'e'),\n",
       " (0.31, 'f'),\n",
       " (0.02, 'g'),\n",
       " (0.17, 'h'),\n",
       " (0.06, 'i'),\n",
       " (0.09, 'j')]"
      ]
     },
     "execution_count": 9,
     "metadata": {},
     "output_type": "execute_result"
    }
   ],
   "source": [
    "p = [0.17, 0.02, 0.13, 0.02, 0.01, 0.31, 0.02, 0.17, 0.06, 0.09]\n",
    "n = len(p)\n",
    "a =  [chr(i) for i in range(ord('a'), ord('a') + n)]\n",
    "pairs = list(zip(p,a))\n",
    "pairs"
   ]
  },
  {
   "cell_type": "code",
   "execution_count": 10,
   "metadata": {},
   "outputs": [
    {
     "name": "stdout",
     "output_type": "stream",
     "text": [
      "[(0.17, 'a'), (0.02, 'b'), (0.13, 'c'), (0.02, 'd'), (0.01, 'e'), (0.31, 'f'), (0.02, 'g'), (0.17, 'h'), (0.06, 'i'), (0.09, 'j')]\n",
      "[(0.31, 'f'), (0.17, 'a'), (0.17, 'h'), (0.13, 'c'), (0.09, 'j'), (0.06, 'i'), (0.03, ['g', 'e']), (0.02, 'b'), (0.02, 'd')]\n",
      "[(0.31, 'f'), (0.17, 'a'), (0.17, 'h'), (0.13, 'c'), (0.09, 'j'), (0.07, [['g', 'e'], 'b', 'd']), (0.06, 'i')]\n",
      "[(0.31, 'f'), (0.22, ['j', [['g', 'e'], 'b', 'd'], 'i']), (0.17, 'a'), (0.17, 'h'), (0.13, 'c')]\n",
      "[(0.47000000000000003, ['a', 'h', 'c']), (0.31, 'f'), (0.22, ['j', [['g', 'e'], 'b', 'd'], 'i'])]\n",
      "[(1.0, [['a', 'h', 'c'], 'f', ['j', [['g', 'e'], 'b', 'd'], 'i']])]\n"
     ]
    }
   ],
   "source": [
    "huffman(pairs,r=3)"
   ]
  },
  {
   "cell_type": "code",
   "execution_count": null,
   "metadata": {},
   "outputs": [],
   "source": []
  }
 ],
 "metadata": {
  "kernelspec": {
   "display_name": "Python 3",
   "language": "python",
   "name": "python3"
  },
  "language_info": {
   "codemirror_mode": {
    "name": "ipython",
    "version": 3
   },
   "file_extension": ".py",
   "mimetype": "text/x-python",
   "name": "python",
   "nbconvert_exporter": "python",
   "pygments_lexer": "ipython3",
   "version": "3.6.5"
  }
 },
 "nbformat": 4,
 "nbformat_minor": 2
}
