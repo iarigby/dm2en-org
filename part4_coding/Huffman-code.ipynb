{
 "cells": [
  {
   "cell_type": "code",
   "execution_count": 1,
   "metadata": {},
   "outputs": [],
   "source": [
    "\n",
    "def huffman(pairs,r):\n",
    "    \"\"\"\n",
    "    'pairs' is a list of '(p,a)' pairs where 'p' is the relative frequency of the message 'a'.\n",
    "    'r' is the number of letters of the encoding character set.\n",
    "    \"\"\"\n",
    "    \n",
    "    import operator\n",
    "    # Sort 'pairs' based on the 'p' value.\n",
    "    pairs = sorted(pairs, key = operator.itemgetter(0), reverse = True)\n",
    "\n",
    "    print( pairs )\n",
    "    \n",
    "    # 'n' is the number of elements in 'pairs'.\n",
    "    n = len(pairs)\n",
    "    \n",
    "    # 't' is the number of elements in 'pairs' to be merged.\n",
    "    t = ((n-2) % (r-1)) + 2\n",
    "    \n",
    "    step_counter = 1\n",
    "    while len(pairs) != 1:\n",
    "        # 'tmp_p' is the sum of last 't' number of 'p' values.\n",
    "        tmp_p = sum(map( operator.itemgetter(0), pairs[n-t:]))\n",
    "\n",
    "        # 'tmp_a' is the list combining the last 't' number of 'a' letters.\n",
    "        tmp_a = list(map( operator.itemgetter(1), pairs[n-t:]))\n",
    "\n",
    "        # Delete the last 't' elements.\n",
    "        del pairs[n-t:]\n",
    "        \n",
    "        # Add back the combined '(tmp_p, tmp_a)' pair.\n",
    "        pairs.append((tmp_p,tmp_a))\n",
    "\n",
    "        # Keep pairs sorted.\n",
    "        pairs = sorted (pairs, key = operator.itemgetter(0), reverse = True)\n",
    "        \n",
    "        # Update 'n', and set 't' to 'r' for all further iterations.\n",
    "        n,t = len(pairs),r\n",
    "\n",
    "        print(\"\\n--- Setp: {} ---\".format(step_counter))\n",
    "        print( pairs )\n",
    "        step_counter += 1\n",
    "\n",
    "    return pairs[0][1]"
   ]
  },
  {
   "cell_type": "code",
   "execution_count": 2,
   "metadata": {},
   "outputs": [
    {
     "data": {
      "text/plain": [
       "[(0.17, 'a'),\n",
       " (0.02, 'b'),\n",
       " (0.13, 'c'),\n",
       " (0.02, 'd'),\n",
       " (0.01, 'e'),\n",
       " (0.31, 'f'),\n",
       " (0.02, 'g'),\n",
       " (0.17, 'h'),\n",
       " (0.06, 'i'),\n",
       " (0.09, 'j')]"
      ]
     },
     "execution_count": 2,
     "metadata": {},
     "output_type": "execute_result"
    }
   ],
   "source": [
    "p = [0.17, 0.02, 0.13, 0.02, 0.01, 0.31, 0.02, 0.17, 0.06, 0.09]\n",
    "n = len(p)\n",
    "a =  [chr(i) for i in range(ord('a'), ord('a') + n)]\n",
    "pairs = list(zip(p,a))\n",
    "pairs"
   ]
  },
  {
   "cell_type": "code",
   "execution_count": 3,
   "metadata": {},
   "outputs": [
    {
     "name": "stdout",
     "output_type": "stream",
     "text": [
      "[(0.31, 'f'), (0.17, 'a'), (0.17, 'h'), (0.13, 'c'), (0.09, 'j'), (0.06, 'i'), (0.02, 'b'), (0.02, 'd'), (0.02, 'g'), (0.01, 'e')]\n",
      "\n",
      "--- Setp: 1 ---\n",
      "[(0.31, 'f'), (0.17, 'a'), (0.17, 'h'), (0.13, 'c'), (0.09, 'j'), (0.06, 'i'), (0.03, ['g', 'e']), (0.02, 'b'), (0.02, 'd')]\n",
      "\n",
      "--- Setp: 2 ---\n",
      "[(0.31, 'f'), (0.17, 'a'), (0.17, 'h'), (0.13, 'c'), (0.09, 'j'), (0.07, [['g', 'e'], 'b', 'd']), (0.06, 'i')]\n",
      "\n",
      "--- Setp: 3 ---\n",
      "[(0.31, 'f'), (0.22, ['j', [['g', 'e'], 'b', 'd'], 'i']), (0.17, 'a'), (0.17, 'h'), (0.13, 'c')]\n",
      "\n",
      "--- Setp: 4 ---\n",
      "[(0.47000000000000003, ['a', 'h', 'c']), (0.31, 'f'), (0.22, ['j', [['g', 'e'], 'b', 'd'], 'i'])]\n",
      "\n",
      "--- Setp: 5 ---\n",
      "[(1.0, [['a', 'h', 'c'], 'f', ['j', [['g', 'e'], 'b', 'd'], 'i']])]\n"
     ]
    }
   ],
   "source": [
    "code_tree = huffman(pairs,r=3)"
   ]
  },
  {
   "cell_type": "code",
   "execution_count": 4,
   "metadata": {},
   "outputs": [],
   "source": [
    "def code_tree_to_code(code_tree):\n",
    "    # Recursive function to generate the code from the 'code_tree'.\n",
    "    def code_tree_gen(ct, prefix, d):\n",
    "        \"\"\"\n",
    "        'ct' is the current (sub-)code-tree.\n",
    "        'prefix' is the prefix of the current (sub-)code-tree.\n",
    "        'd' is the dictionary where the code-words are stored.\n",
    "        \"\"\"\n",
    "        \n",
    "        # For every branch of the current (sub-)code-tree.\n",
    "        for i in range(len(ct)):\n",
    "            # 'cc' is the branch. 'ii' is just 'i' converted to a string. \n",
    "            cc, ii = ct[i], str(i)\n",
    "            \n",
    "            # The 'cc' branch can be a list or a character.\n",
    "            if type(cc) == list:\n",
    "                # If it is a list, then there is a subtree below it, process it!\n",
    "                code_tree_gen(cc, prefix + ii, d)\n",
    "            else:\n",
    "                # If it is a character, construt the code form the prefix and the index.\n",
    "                d[cc] = prefix + ii\n",
    "            \n",
    "    d = {}\n",
    "    code_tree_gen(code_tree, \"\", d)\n",
    "    return d"
   ]
  },
  {
   "cell_type": "code",
   "execution_count": 5,
   "metadata": {},
   "outputs": [
    {
     "data": {
      "text/plain": [
       "[['a', 'h', 'c'], 'f', ['j', [['g', 'e'], 'b', 'd'], 'i']]"
      ]
     },
     "execution_count": 5,
     "metadata": {},
     "output_type": "execute_result"
    }
   ],
   "source": [
    "code_tree"
   ]
  },
  {
   "cell_type": "code",
   "execution_count": 6,
   "metadata": {},
   "outputs": [
    {
     "data": {
      "text/plain": [
       "{'a': '00',\n",
       " 'h': '01',\n",
       " 'c': '02',\n",
       " 'f': '1',\n",
       " 'j': '20',\n",
       " 'g': '2100',\n",
       " 'e': '2101',\n",
       " 'b': '211',\n",
       " 'd': '212',\n",
       " 'i': '22'}"
      ]
     },
     "execution_count": 6,
     "metadata": {},
     "output_type": "execute_result"
    }
   ],
   "source": [
    "code_tree_to_code(code_tree)"
   ]
  },
  {
   "cell_type": "code",
   "execution_count": null,
   "metadata": {},
   "outputs": [],
   "source": []
  }
 ],
 "metadata": {
  "kernelspec": {
   "display_name": "Python 3",
   "language": "python",
   "name": "python3"
  },
  "language_info": {
   "codemirror_mode": {
    "name": "ipython",
    "version": 3
   },
   "file_extension": ".py",
   "mimetype": "text/x-python",
   "name": "python",
   "nbconvert_exporter": "python",
   "pygments_lexer": "ipython3",
   "version": "3.6.5"
  }
 },
 "nbformat": 4,
 "nbformat_minor": 2
}
